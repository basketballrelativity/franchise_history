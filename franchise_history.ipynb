{
 "cells": [
  {
   "cell_type": "markdown",
   "metadata": {},
   "source": [
    "# Franchise History Visualization\n",
    "\n",
    "The WNBA and NBA both contain franchises with rich histories. The following introduces part of the [py_ball](https://github.com/basketballrelativity/py_ball) package through visualizing basketball league history at the franchise level. The code below leverages `matplotlib` for data visualization."
   ]
  },
  {
   "cell_type": "code",
   "execution_count": 1,
   "metadata": {
    "collapsed": true
   },
   "outputs": [],
   "source": [
    "import pandas as pd\n",
    "import matplotlib.pyplot as plt\n",
    "from PIL import Image\n",
    "\n",
    "from py_ball import league, image"
   ]
  },
  {
   "cell_type": "markdown",
   "metadata": {},
   "source": [
    "We'll be leveraging the `league` and `image` modules from the `py_ball` package. Also, below is the request header information needed by the NBA stats API. The `User-Agent` key is the only required parameter. More information on the request header requirement can be found [here](https://stackoverflow.com/questions/46781563/how-to-obtain-a-json-response-from-the-stats-nba-com-api)."
   ]
  },
  {
   "cell_type": "code",
   "execution_count": 2,
   "metadata": {
    "collapsed": true
   },
   "outputs": [],
   "source": [
    "HEADERS = {'Connection': 'keep-alive',\n",
    "           'Host': 'stats.nba.com',\n",
    "           'Origin': 'http://stats.nba.com',\n",
    "           'Upgrade-Insecure-Requests': '1',\n",
    "           'Referer': 'stats.nba.com',\n",
    "           'x-nba-stats-origin': 'stats',\n",
    "           'x-nba-stats-token': 'true',\n",
    "           'Accept-Language': 'en-US,en;q=0.9',\n",
    "           \"X-NewRelic-ID\": \"VQECWF5UChAHUlNTBwgBVw==\",\n",
    "           'User-Agent': 'Mozilla/5.0 (Macintosh; Intel Mac OS X 10_14_6)' +\\\n",
    "                         ' AppleWebKit/537.36 (KHTML, like Gecko)' + \\\n",
    "                         ' Chrome/81.0.4044.129 Safari/537.36'}"
   ]
  },
  {
   "cell_type": "markdown",
   "metadata": {},
   "source": [
    "The first function we'll write adds an NBA or WNBA logo image to a `matplotlib` figure. `add_logo` ingests the figure, logo image, and desired location of the logo on the figure. The function shrinks down, rotates, and transposes the image before adding it to the figure in the provided location. Using the logo to label the timeline of a franchise is a more visually appealing alternative to only using a team city or name."
   ]
  },
  {
   "cell_type": "code",
   "execution_count": 3,
   "metadata": {
    "collapsed": true
   },
   "outputs": [],
   "source": [
    "def add_logo(fig, logo, x_frac, y_frac):\n",
    "    \"\"\" This function adds a logo to the provided figure\n",
    "\n",
    "    Args:\n",
    "\n",
    "        @param **fig** (matplotlib.figure.Figure): Figure object of franchise\n",
    "            history barchart\n",
    "\n",
    "        @param **logo** (PngImageFile): PNG image object of logo corresponding\n",
    "            to a basketball franchise\n",
    "\n",
    "        @param **x_frac** (float): Value corresponding to the horizontal position\n",
    "            at which the image is to be initiated\n",
    "\n",
    "        @param **y_frac** (float): Value corresponding to the vertical position\n",
    "            at which the image is to be initiated\n",
    "\n",
    "    Returns:\n",
    "\n",
    "        **fig** (matplotlib.figure.Figure): Figure object of franchise\n",
    "            history barchart with the corresponding logo added\n",
    "    \"\"\"\n",
    "\n",
    "    logo.thumbnail((32, 32), Image.ANTIALIAS)\n",
    "    logo = logo.rotate(180)\n",
    "    logo = logo.transpose(Image.FLIP_LEFT_RIGHT)\n",
    "    img_x, img_y = logo.size[0], logo.size[1]\n",
    "    x_offset = int((fig.bbox.xmax * x_frac - img_x/2))\n",
    "    y_offset = int((fig.bbox.ymax * y_frac - img_y/2))\n",
    "    fig.figimage(logo, origin={'lower'},\n",
    "                 xo=x_offset, yo=y_offset, zorder=10)\n",
    "\n",
    "    return fig"
   ]
  },
  {
   "cell_type": "markdown",
   "metadata": {},
   "source": [
    "`add_franchise_changes` below ingests a figure and location information for years during which a franchise change occurred. This function will provide more context to the history of a franchise in the final visualization."
   ]
  },
  {
   "cell_type": "code",
   "execution_count": 4,
   "metadata": {
    "collapsed": true
   },
   "outputs": [],
   "source": [
    "def add_franchise_changes(fig, years, ind):\n",
    "    \"\"\" This function adds dashed vertical lines when\n",
    "    the franchise underwent a change (name/city change)\n",
    "\n",
    "    Args:\n",
    "\n",
    "        @param **fig** (matplotlib.figure.Figure): Figure object of franchise\n",
    "            history barchart\n",
    "\n",
    "        @param **years** (list): List of integers corresponing to years in\n",
    "            which a franchise change took place\n",
    "\n",
    "        @param **ind** (float): Value of the vertical location of the bar\n",
    "            on the barchar\n",
    "\n",
    "    Returns:\n",
    "\n",
    "        **fig** (matplotlib.figure.Figure): Figure object of franchise\n",
    "            history barchart with the franchise changes added\n",
    "    \"\"\"\n",
    "\n",
    "    for year in years:\n",
    "        plt.plot([year, year], [ind - 0.4, ind + 0.4], 'k--')\n",
    "\n",
    "    return fig"
   ]
  },
  {
   "cell_type": "markdown",
   "metadata": {},
   "source": [
    "That does it for helper functions! If you would like a more self-contained version of this code, please see the `franchise_history.py` file in this repository. The code below will walk through the data ingestion and manipulation that occurs in that more compact script. First, the `franchise_history` endpoint of the NBA stats API is called using the `League` class."
   ]
  },
  {
   "cell_type": "code",
   "execution_count": 5,
   "metadata": {},
   "outputs": [
    {
     "data": {
      "text/html": [
       "<div>\n",
       "<style>\n",
       "    .dataframe thead tr:only-child th {\n",
       "        text-align: right;\n",
       "    }\n",
       "\n",
       "    .dataframe thead th {\n",
       "        text-align: left;\n",
       "    }\n",
       "\n",
       "    .dataframe tbody tr th {\n",
       "        vertical-align: top;\n",
       "    }\n",
       "</style>\n",
       "<table border=\"1\" class=\"dataframe\">\n",
       "  <thead>\n",
       "    <tr style=\"text-align: right;\">\n",
       "      <th></th>\n",
       "      <th>CONF_TITLES</th>\n",
       "      <th>DIV_TITLES</th>\n",
       "      <th>END_YEAR</th>\n",
       "      <th>GAMES</th>\n",
       "      <th>LEAGUE_ID</th>\n",
       "      <th>LEAGUE_TITLES</th>\n",
       "      <th>LOSSES</th>\n",
       "      <th>PO_APPEARANCES</th>\n",
       "      <th>START_YEAR</th>\n",
       "      <th>TEAM_CITY</th>\n",
       "      <th>TEAM_ID</th>\n",
       "      <th>TEAM_NAME</th>\n",
       "      <th>WINS</th>\n",
       "      <th>WIN_PCT</th>\n",
       "      <th>YEARS</th>\n",
       "    </tr>\n",
       "  </thead>\n",
       "  <tbody>\n",
       "    <tr>\n",
       "      <th>0</th>\n",
       "      <td>3</td>\n",
       "      <td>0</td>\n",
       "      <td>2018</td>\n",
       "      <td>374</td>\n",
       "      <td>10</td>\n",
       "      <td>0</td>\n",
       "      <td>191</td>\n",
       "      <td>8</td>\n",
       "      <td>2008</td>\n",
       "      <td>Atlanta</td>\n",
       "      <td>1611661330</td>\n",
       "      <td>Dream</td>\n",
       "      <td>183</td>\n",
       "      <td>0.489</td>\n",
       "      <td>11</td>\n",
       "    </tr>\n",
       "    <tr>\n",
       "      <th>1</th>\n",
       "      <td>1</td>\n",
       "      <td>0</td>\n",
       "      <td>2018</td>\n",
       "      <td>442</td>\n",
       "      <td>10</td>\n",
       "      <td>0</td>\n",
       "      <td>250</td>\n",
       "      <td>4</td>\n",
       "      <td>2006</td>\n",
       "      <td>Chicago</td>\n",
       "      <td>1611661329</td>\n",
       "      <td>Sky</td>\n",
       "      <td>192</td>\n",
       "      <td>0.434</td>\n",
       "      <td>13</td>\n",
       "    </tr>\n",
       "    <tr>\n",
       "      <th>2</th>\n",
       "      <td>2</td>\n",
       "      <td>0</td>\n",
       "      <td>2018</td>\n",
       "      <td>672</td>\n",
       "      <td>10</td>\n",
       "      <td>0</td>\n",
       "      <td>312</td>\n",
       "      <td>11</td>\n",
       "      <td>1999</td>\n",
       "      <td>Connecticut</td>\n",
       "      <td>1611661323</td>\n",
       "      <td>Sun</td>\n",
       "      <td>360</td>\n",
       "      <td>0.535</td>\n",
       "      <td>20</td>\n",
       "    </tr>\n",
       "    <tr>\n",
       "      <th>3</th>\n",
       "      <td>2</td>\n",
       "      <td>0</td>\n",
       "      <td>2018</td>\n",
       "      <td>544</td>\n",
       "      <td>10</td>\n",
       "      <td>0</td>\n",
       "      <td>244</td>\n",
       "      <td>10</td>\n",
       "      <td>2003</td>\n",
       "      <td>Connecticut</td>\n",
       "      <td>1611661323</td>\n",
       "      <td>Sun</td>\n",
       "      <td>300</td>\n",
       "      <td>0.551</td>\n",
       "      <td>16</td>\n",
       "    </tr>\n",
       "    <tr>\n",
       "      <th>4</th>\n",
       "      <td>0</td>\n",
       "      <td>0</td>\n",
       "      <td>2002</td>\n",
       "      <td>128</td>\n",
       "      <td>10</td>\n",
       "      <td>0</td>\n",
       "      <td>68</td>\n",
       "      <td>1</td>\n",
       "      <td>1999</td>\n",
       "      <td>Orlando</td>\n",
       "      <td>1611661323</td>\n",
       "      <td>Miracle</td>\n",
       "      <td>60</td>\n",
       "      <td>0.468</td>\n",
       "      <td>4</td>\n",
       "    </tr>\n",
       "    <tr>\n",
       "      <th>5</th>\n",
       "      <td>4</td>\n",
       "      <td>1</td>\n",
       "      <td>2018</td>\n",
       "      <td>702</td>\n",
       "      <td>10</td>\n",
       "      <td>3</td>\n",
       "      <td>391</td>\n",
       "      <td>11</td>\n",
       "      <td>1998</td>\n",
       "      <td>Dallas</td>\n",
       "      <td>1611661321</td>\n",
       "      <td>Wings</td>\n",
       "      <td>311</td>\n",
       "      <td>0.443</td>\n",
       "      <td>21</td>\n",
       "    </tr>\n",
       "    <tr>\n",
       "      <th>6</th>\n",
       "      <td>0</td>\n",
       "      <td>0</td>\n",
       "      <td>2018</td>\n",
       "      <td>102</td>\n",
       "      <td>10</td>\n",
       "      <td>0</td>\n",
       "      <td>60</td>\n",
       "      <td>2</td>\n",
       "      <td>2016</td>\n",
       "      <td>Dallas</td>\n",
       "      <td>1611661321</td>\n",
       "      <td>Wings</td>\n",
       "      <td>42</td>\n",
       "      <td>0.411</td>\n",
       "      <td>3</td>\n",
       "    </tr>\n",
       "    <tr>\n",
       "      <th>7</th>\n",
       "      <td>0</td>\n",
       "      <td>0</td>\n",
       "      <td>2015</td>\n",
       "      <td>204</td>\n",
       "      <td>10</td>\n",
       "      <td>0</td>\n",
       "      <td>145</td>\n",
       "      <td>1</td>\n",
       "      <td>2010</td>\n",
       "      <td>Tulsa</td>\n",
       "      <td>1611661321</td>\n",
       "      <td>Shock</td>\n",
       "      <td>59</td>\n",
       "      <td>0.289</td>\n",
       "      <td>6</td>\n",
       "    </tr>\n",
       "    <tr>\n",
       "      <th>8</th>\n",
       "      <td>4</td>\n",
       "      <td>1</td>\n",
       "      <td>2009</td>\n",
       "      <td>396</td>\n",
       "      <td>10</td>\n",
       "      <td>3</td>\n",
       "      <td>186</td>\n",
       "      <td>8</td>\n",
       "      <td>1998</td>\n",
       "      <td>Detroit</td>\n",
       "      <td>1611661321</td>\n",
       "      <td>Shock</td>\n",
       "      <td>210</td>\n",
       "      <td>0.530</td>\n",
       "      <td>12</td>\n",
       "    </tr>\n",
       "    <tr>\n",
       "      <th>9</th>\n",
       "      <td>3</td>\n",
       "      <td>0</td>\n",
       "      <td>2018</td>\n",
       "      <td>640</td>\n",
       "      <td>10</td>\n",
       "      <td>1</td>\n",
       "      <td>324</td>\n",
       "      <td>13</td>\n",
       "      <td>2000</td>\n",
       "      <td>Indiana</td>\n",
       "      <td>1611661325</td>\n",
       "      <td>Fever</td>\n",
       "      <td>316</td>\n",
       "      <td>0.493</td>\n",
       "      <td>19</td>\n",
       "    </tr>\n",
       "  </tbody>\n",
       "</table>\n",
       "</div>"
      ],
      "text/plain": [
       "   CONF_TITLES  DIV_TITLES END_YEAR  GAMES LEAGUE_ID  LEAGUE_TITLES  LOSSES  \\\n",
       "0            3           0     2018    374        10              0     191   \n",
       "1            1           0     2018    442        10              0     250   \n",
       "2            2           0     2018    672        10              0     312   \n",
       "3            2           0     2018    544        10              0     244   \n",
       "4            0           0     2002    128        10              0      68   \n",
       "5            4           1     2018    702        10              3     391   \n",
       "6            0           0     2018    102        10              0      60   \n",
       "7            0           0     2015    204        10              0     145   \n",
       "8            4           1     2009    396        10              3     186   \n",
       "9            3           0     2018    640        10              1     324   \n",
       "\n",
       "   PO_APPEARANCES START_YEAR    TEAM_CITY     TEAM_ID TEAM_NAME  WINS  \\\n",
       "0               8       2008      Atlanta  1611661330     Dream   183   \n",
       "1               4       2006      Chicago  1611661329       Sky   192   \n",
       "2              11       1999  Connecticut  1611661323       Sun   360   \n",
       "3              10       2003  Connecticut  1611661323       Sun   300   \n",
       "4               1       1999      Orlando  1611661323   Miracle    60   \n",
       "5              11       1998       Dallas  1611661321     Wings   311   \n",
       "6               2       2016       Dallas  1611661321     Wings    42   \n",
       "7               1       2010        Tulsa  1611661321     Shock    59   \n",
       "8               8       1998      Detroit  1611661321     Shock   210   \n",
       "9              13       2000      Indiana  1611661325     Fever   316   \n",
       "\n",
       "   WIN_PCT  YEARS  \n",
       "0    0.489     11  \n",
       "1    0.434     13  \n",
       "2    0.535     20  \n",
       "3    0.551     16  \n",
       "4    0.468      4  \n",
       "5    0.443     21  \n",
       "6    0.411      3  \n",
       "7    0.289      6  \n",
       "8    0.530     12  \n",
       "9    0.493     19  "
      ]
     },
     "execution_count": 5,
     "metadata": {},
     "output_type": "execute_result"
    }
   ],
   "source": [
    "league_id = '10' #WNBA\n",
    "franchises = league.League(headers=HEADERS,\n",
    "                           endpoint='franchisehistory',\n",
    "                           league_id=league_id)\n",
    "franchise_df = pd.DataFrame(franchises.data['FranchiseHistory'])\n",
    "franchise_df.head(10)"
   ]
  },
  {
   "cell_type": "markdown",
   "metadata": {},
   "source": [
    "Investigating the DataFrame above reveals an interesting structure. The same `TEAM_ID` can be seen in multiple rows. For instance, `TEAM_ID = 1611661323` corresponds to the Connecticut Sun franchise. However, this `TEAM_ID` has three rows in the above DataFrame. The table seems to be organized so as to have one row corresponding to the entirety of a franchise's history, in addition to rows for each team in that history. Research confirms that the Orlando Miracle joined the WNBA in 1999 as an expansion team. The franchise then relocated and changed its name to the Connecticut Sun after the 2002 season.\n",
    "\n",
    "For the purpose of this work, we are primarily concerned with the entirety of a franchise's history, but would also like to respect fundamental changes to a franchise. The cell below selects the DataFrame index of the rows with the maximum number of `YEARS` for each `TEAM_ID`. Also, teams are usually referred to by citing both their location and nickname, so we'll create a `TEAM_FULL` column."
   ]
  },
  {
   "cell_type": "code",
   "execution_count": 6,
   "metadata": {
    "collapsed": true
   },
   "outputs": [],
   "source": [
    "franchise_df['TEAM_FULL'] = franchise_df['TEAM_CITY'] + ' ' + \\\n",
    "                            franchise_df['TEAM_NAME']\n",
    "\n",
    "franchise_ind = \\\n",
    "    franchise_df.groupby(['TEAM_ID'],\n",
    "                         sort=False)['YEARS'].transform(max) == \\\n",
    "               franchise_df['YEARS']"
   ]
  },
  {
   "cell_type": "markdown",
   "metadata": {},
   "source": [
    "Because plotting requires location values to be numeric, we'll need to convert some of our features to a numeric form. Also, we'll overwrite the `YEARS` field in the DataFrame to a more consistent value (specifically, I have found an error in the number of years for the Charlotte Hornets franchise)."
   ]
  },
  {
   "cell_type": "code",
   "execution_count": 7,
   "metadata": {
    "collapsed": true
   },
   "outputs": [],
   "source": [
    "franchise_df['YEARS'] = pd.to_numeric(franchise_df['YEARS'])\n",
    "franchise_df['START_YEAR'] = pd.to_numeric(franchise_df['START_YEAR'])\n",
    "franchise_df['END_YEAR'] = pd.to_numeric(franchise_df['END_YEAR'])\n",
    "\n",
    "franchise_df['YEARS'] = franchise_df['END_YEAR'] - \\\n",
    "    franchise_df['START_YEAR']\n",
    "\n",
    "unique_franchise_df = franchise_df[franchise_ind]\n",
    "unique_franchise_df = unique_franchise_df.sort_values(by='YEARS',\n",
    "                                                      ascending=True)"
   ]
  },
  {
   "cell_type": "markdown",
   "metadata": {},
   "source": [
    "`unique_franchise_df` is a DataFrame that contains only the rows from `franchise_df` for which the number of years for a franchise is a maximum. Onto the visualization! Due to the differing number of teams, the code below adjusts the figure size. `fig.add_axes` is called so as to provide some room to the right of the figure to add team logos.\n",
    "\n",
    "`axis.barh` adds a horizontal to the `fig` figure object with the width of each bar corresponding to the length in years of a franchise history. `plt.xticks` and `plt.yticks` add year and team labels, respectively, to provide clarity. Finally, the limits of the horizontal axis are set, along with providing initialization values for the placement of team logos."
   ]
  },
  {
   "cell_type": "code",
   "execution_count": 8,
   "metadata": {
    "collapsed": true
   },
   "outputs": [],
   "source": [
    "if league_id == '10':\n",
    "    fig = plt.figure(figsize=(6, 9))\n",
    "elif league_id == '00':\n",
    "    fig = plt.figure(figsize=(6, 12))\n",
    "\n",
    "axis = fig.add_axes([0., 0., 0.8, 1., ])\n",
    "\n",
    "axis.barh(bottom=range(0, len(unique_franchise_df)),\n",
    "          width=unique_franchise_df['YEARS'],\n",
    "          left=unique_franchise_df['START_YEAR'], height=0.5,\n",
    "          color='grey')\n",
    "\n",
    "start_year = min(unique_franchise_df['START_YEAR'])\n",
    "end_year = max(unique_franchise_df['END_YEAR'])\n",
    "\n",
    "plt.xticks(range(start_year,\n",
    "                 end_year + 1,\n",
    "                 int(round((end_year - start_year)/10.0) + 1)),\n",
    "           rotation=30)\n",
    "\n",
    "plt.yticks(range(0, len(unique_franchise_df)),\n",
    "           unique_franchise_df['TEAM_FULL'],\n",
    "           rotation=30)\n",
    "\n",
    "# Logo additions\n",
    "if league_id == '10':\n",
    "    horiz_frac = 1\n",
    "    vertical_frac = 0.12\n",
    "    increment = 0.08\n",
    "    league_str = 'WNBA'\n",
    "    axis.set_xlim(start_year,\n",
    "                  end_year+4)\n",
    "elif league_id == '00':\n",
    "    horiz_frac = 1\n",
    "    vertical_frac = 0.09\n",
    "    increment = 0.031\n",
    "    league_str = 'NBA'\n",
    "    axis.set_xlim(start_year,\n",
    "                  end_year+18)"
   ]
  },
  {
   "cell_type": "markdown",
   "metadata": {},
   "source": [
    "The for-loop below loops through each `TEAM_ID` in `unique_franchise_df` DataFrame, uses the `Logo` class in `py_ball` to get a PNG logo image, and extracts franchise changes from the original `franchise_df` for each franchise. `add_logo` and `add_franchise_changes` are called to add the corresponding information to the `fig` object. After the for-loop concludes, the final figure is shown."
   ]
  },
  {
   "cell_type": "code",
   "execution_count": 9,
   "metadata": {},
   "outputs": [
    {
     "data": {
      "image/png": "[encoded data removed]",
      "text/plain": [
       "<matplotlib.figure.Figure at 0x11a5d44e0>"
      ]
     },
     "metadata": {},
     "output_type": "display_data"
    }
   ],
   "source": [
    "ind = 0\n",
    "for team_id in unique_franchise_df['TEAM_ID']:\n",
    "    test_logo = image.Logo(league=league_str,\n",
    "                           team_id=str(team_id)).image\n",
    "    fig = add_logo(fig, test_logo, horiz_frac, vertical_frac)\n",
    "    years_df = \\\n",
    "        franchise_df[franchise_df['TEAM_ID'] == \\\n",
    "                     team_id].sort_values(by='START_YEAR',\n",
    "                                          ascending=False)\n",
    "    years = sorted(list(set(years_df['START_YEAR'])))\n",
    "    fig = add_franchise_changes(fig, years[1:], ind)\n",
    "    vertical_frac += increment\n",
    "    ind += 1\n",
    "\n",
    "plt.show()"
   ]
  },
  {
   "cell_type": "markdown",
   "metadata": {},
   "source": [
    "The visualization above communicates tremendous information about the history of the WNBA, including:\n",
    "   - The WNBA has four surviving franchises from its inaugural 1997 season, the Phoenix Mercury, New York Liberty, Los Angeles Sparks, and Las Vegas Aces franchises (the Las Vegas Aces were then the Utah Starzz).\n",
    "   - The league saw great growth in its early years, adding two lasting franchises in each of the three subsequent seasons.\n",
    "   - The Las Vegas Aces franchise has gone through the most change. They began as the Utah Starzz, then moved to San Antonio to become the Silver Stars. In 2014, the franchise shortened its nickname to Stars before moving to Las Vegas prior to the 2018 season.\n",
    "   - All active franchises have been in the league for at least 10 seasons."
   ]
  },
  {
   "cell_type": "markdown",
   "metadata": {},
   "source": [
    "## Exploration\n",
    "- Rerun the notebook after changing the `league_id` variable to '00' to visualize franchise history in the NBA. What information can you glean from the NBA bar chart?\n",
    "- What other interesting visualizations can you generate from the `franchise_history` endpoint?\n",
    "- This notebook added team logos and franchise changes to include more context in the visualization. What other information could be added to the bar chart visualization to add greater meaning?"
   ]
  },
  {
   "cell_type": "code",
   "execution_count": null,
   "metadata": {
    "collapsed": true
   },
   "outputs": [],
   "source": []
  }
 ],
 "metadata": {
  "kernelspec": {
   "display_name": "Python 3",
   "language": "python",
   "name": "python3"
  },
  "language_info": {
   "codemirror_mode": {
    "name": "ipython",
    "version": 3
   },
   "file_extension": ".py",
   "mimetype": "text/x-python",
   "name": "python",
   "nbconvert_exporter": "python",
   "pygments_lexer": "ipython3",
   "version": "3.7.7"
  }
 },
 "nbformat": 4,
 "nbformat_minor": 2
}
